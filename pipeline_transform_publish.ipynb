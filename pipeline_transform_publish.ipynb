{
 "cells": [
  {
   "cell_type": "markdown",
   "metadata": {},
   "source": [
    "## Publish pipeline \"pipeline_transform\" to Azure"
   ]
  },
  {
   "cell_type": "markdown",
   "metadata": {},
   "source": [
    "### Imports"
   ]
  },
  {
   "cell_type": "code",
   "execution_count": null,
   "metadata": {},
   "outputs": [],
   "source": [
    "import azureml.core\n",
    "from azureml.core import Workspace, Datastore\n",
    "from azureml.widgets import RunDetails\n",
    "\n",
    "# check core SDK version number\n",
    "print(\"Azure ML SDK Version: \", azureml.core.VERSION)\n",
    "\n",
    "from azureml.data.data_reference import DataReference\n",
    "from azureml.pipeline.core import Pipeline, PipelineData\n",
    "from azureml.pipeline.steps import PythonScriptStep\n",
    "from azureml.pipeline.core.graph import PipelineParameter\n",
    "print(\"Pipeline SDK-specific imports completed\")\n"
   ]
  },
  {
   "cell_type": "markdown",
   "metadata": {},
   "source": [
    "## Parameters"
   ]
  },
  {
   "cell_type": "code",
   "execution_count": null,
   "metadata": {},
   "outputs": [],
   "source": [
    "python_pipeline_script = 'pipeline_step_transform_data.py'\n",
    "published_pipeline_name = 'Test_transform_Pipeline_rm2'\n",
    "published_pipeline_description = 'Published test transform Pipeline'"
   ]
  },
  {
   "cell_type": "markdown",
   "metadata": {},
   "source": [
    "### Load workspace, datastore"
   ]
  },
  {
   "cell_type": "code",
   "execution_count": null,
   "metadata": {
    "scrolled": true
   },
   "outputs": [],
   "source": [
    "# load workspace configuration from the config.json file in the current folder.\n",
    "ws = Workspace.from_config(path='azure_config_dev.json')\n",
    "print(ws.name, ws.location, ws.resource_group, ws.location, sep='\\t')\n",
    "\n",
    "# Blob storage associated with the workspace\n",
    "# The following call GETS the Azure Blob Store associated with your workspace.\n",
    "# Note that workspaceblobstore is **the name of this store and CANNOT BE CHANGED and must be used as is** \n",
    "def_blob_store = Datastore(ws, \"workspaceblobstore\")\n",
    "print(\"Blobstore's name: {}\".format(def_blob_store.name))"
   ]
  },
  {
   "cell_type": "markdown",
   "metadata": {},
   "source": [
    "### Data reference to blob data store"
   ]
  },
  {
   "cell_type": "code",
   "execution_count": null,
   "metadata": {},
   "outputs": [],
   "source": [
    "blob_input_data = DataReference(\n",
    "    datastore=def_blob_store,\n",
    "    data_reference_name=\"input_data\", \n",
    "    path_on_datastore=\"./data\")\n",
    "print(\"DataReference object created: \",blob_input_data)\n",
    "print(blob_input_data.path('data').as_mount())"
   ]
  },
  {
   "cell_type": "markdown",
   "metadata": {},
   "source": [
    "###  Get (or create) Compute target"
   ]
  },
  {
   "cell_type": "code",
   "execution_count": null,
   "metadata": {},
   "outputs": [],
   "source": [
    "from azureml.core.compute import AmlCompute\n",
    "from azureml.core.compute import ComputeTarget\n",
    "import os\n",
    "\n",
    "# choose a name for your cluster\n",
    "compute_name = os.environ.get(\"AML_COMPUTE_CLUSTER_NAME\", \"cpucluster\") #gpucluster cpucluster aml-compute\" # \"try-gpu\"\n",
    "compute_min_nodes = os.environ.get(\"AML_COMPUTE_CLUSTER_MIN_NODES\", 1) #1 to get ready machine\n",
    "compute_max_nodes = os.environ.get(\"AML_COMPUTE_CLUSTER_MAX_NODES\", 4)\n",
    "\n",
    "# This example uses CPU VM. For using GPU VM, set SKU to STANDARD_NC6\n",
    "vm_size = os.environ.get(\"AML_COMPUTE_CLUSTER_SKU\", \"STANDARD_D2_V2\") #  \"STANDARD_NC6\")#\"STANDARD_D2_V2\")\n",
    "\n",
    "\n",
    "if compute_name in ws.compute_targets:\n",
    "    compute_target = ws.compute_targets[compute_name]\n",
    "    if compute_target and type(compute_target) is AmlCompute:\n",
    "        print('found compute target. just use it. ' + compute_name)\n",
    "else:\n",
    "    print('creating a new compute target...')\n",
    "    provisioning_config = AmlCompute.provisioning_configuration(vm_size = vm_size,\n",
    "                                                                min_nodes = compute_min_nodes, \n",
    "                                                                max_nodes = compute_max_nodes)\n",
    "\n",
    "    # create the cluster\n",
    "    compute_target = ComputeTarget.create(ws, compute_name, provisioning_config)\n",
    "    \n",
    "    # can poll for a minimum number of nodes and for a specific timeout. \n",
    "    # if no min node count is provided it will use the scale settings for the cluster\n",
    "    compute_target.wait_for_completion(show_output=True, min_node_count=None, timeout_in_minutes=20)\n",
    "    \n",
    "     # For a more detailed view of current AmlCompute status, use get_status()\n",
    "    print(compute_target.get_status().serialize())"
   ]
  },
  {
   "cell_type": "markdown",
   "metadata": {},
   "source": [
    "### Prepare Pipeline\n",
    "\n",
    "(Note - best to touch base script, ie pipeline_step_route_data.py, to ensure latest version is uploaded to Azure.\n",
    "eg just change a print statement)"
   ]
  },
  {
   "cell_type": "code",
   "execution_count": null,
   "metadata": {},
   "outputs": [],
   "source": [
    "#script folder\n",
    "import os\n",
    "script_folder = os.path.join(os.getcwd(), \"azure_upload_scripts\")\n",
    "os.makedirs(script_folder, exist_ok=True)\n",
    "import shutil\n",
    "\n",
    "ngamlfpy_package_name = 'ngamlfpy'\n",
    "\n",
    "from distutils.dir_util import copy_tree\n",
    "files_in_ngamlfpy_copied = copy_tree(ngamlfpy_package_name, os.path.join(script_folder,ngamlfpy_package_name))\n",
    "\n",
    "print('Files in package ',ngamlfpy_package_name,' copied: ')\n",
    "for file_copied in files_in_ngamlfpy_copied:\n",
    "    print('  ',file_copied)\n",
    "\n",
    "print(' ')    \n",
    "print('Script copied: ')    \n",
    "shutil.copy(python_pipeline_script, script_folder)"
   ]
  },
  {
   "cell_type": "markdown",
   "metadata": {},
   "source": [
    "## Define Pipeline parameters"
   ]
  },
  {
   "cell_type": "code",
   "execution_count": null,
   "metadata": {},
   "outputs": [],
   "source": [
    "# We will use this later in publishing pipeline\n",
    "pipeline_param_ml_service = PipelineParameter(name=\"ml_service\", default_value=\"TWV\")\n",
    "print(\"pipeline parameter created\")"
   ]
  },
  {
   "cell_type": "code",
   "execution_count": null,
   "metadata": {},
   "outputs": [],
   "source": [
    "# We will use this later in publishing pipeline\n",
    "pipeline_param_model_name = PipelineParameter(name=\"model_name\", default_value=\"T001\")\n",
    "print(\"pipeline parameter created\")"
   ]
  },
  {
   "cell_type": "code",
   "execution_count": null,
   "metadata": {},
   "outputs": [],
   "source": [
    "# We will use this later in publishing pipeline\n",
    "pipeline_param_model_version = PipelineParameter(name=\"model_version\", default_value=\"001\")\n",
    "print(\"pipeline parameter created\")"
   ]
  },
  {
   "cell_type": "code",
   "execution_count": null,
   "metadata": {},
   "outputs": [],
   "source": [
    "# We will use this later in publishing pipeline\n",
    "pipeline_param_pipeline_param = PipelineParameter(name=\"pipeline_parameter\", default_value='23')\n",
    "print(\"pipeline parameter created\")"
   ]
  },
  {
   "cell_type": "code",
   "execution_count": null,
   "metadata": {},
   "outputs": [],
   "source": [
    "# We will use this later in publishing pipeline\n",
    "pipeline_param_json_input = PipelineParameter(name=\"json_input\", default_value=\"{}\")\n",
    "print(\"pipeline parameter created\")"
   ]
  },
  {
   "cell_type": "code",
   "execution_count": null,
   "metadata": {},
   "outputs": [],
   "source": [
    "# We will use this later in publishing pipeline\n",
    "pipeline_param_normalise_labels = PipelineParameter(name=\"normalise_labels\", default_value='N')\n",
    "print(\"pipeline parameter created\")"
   ]
  },
  {
   "cell_type": "markdown",
   "metadata": {},
   "source": [
    "## Specify packages required etc"
   ]
  },
  {
   "cell_type": "code",
   "execution_count": null,
   "metadata": {},
   "outputs": [],
   "source": [
    "from azureml.core.runconfig import CondaDependencies, RunConfiguration\n",
    "cd = CondaDependencies()\n",
    "\n",
    "cd.add_channel(\"conda-forge\")\n",
    "#cd.add_conda_package(\"azureml-pipeline-core\")\n",
    "cd.add_pip_package(\"azureml-pipeline-core\")\n",
    "#cd.add_pip_package(\"azureml-data\")\n",
    "#cd.add_pip_package(\"azureml-core.azureml.data\")\n",
    "cd.add_pip_package(\"azureml-core\")\n",
    "\n",
    "cd.add_conda_package(\"scikit-learn\")\n",
    "cd.add_conda_package(\"pandas\")\n",
    "cd.add_conda_package(\"matplotlib\")\n",
    "cd.add_conda_package(\"numpy\")\n",
    "cd.add_conda_package(\"requests\")\n",
    "\n",
    "amlcompute_run_config = RunConfiguration(conda_dependencies=cd)\n",
    "amlcompute_run_config.environment.docker.enabled = True\n",
    "amlcompute_run_config.environment.docker.gpu_support = True\n",
    "\n"
   ]
  },
  {
   "cell_type": "markdown",
   "metadata": {},
   "source": [
    "## Pipeline step: define python code to be published"
   ]
  },
  {
   "cell_type": "code",
   "execution_count": null,
   "metadata": {},
   "outputs": [],
   "source": [
    "\n",
    "step1 = PythonScriptStep(\n",
    "    script_name=python_pipeline_script, \n",
    "    #arguments=[\"--input_data\", blob_input_data, \"--output_routed\", routed_data, \"--pipeline_parameter\",pipeline_param],\n",
    "    arguments = [\"--input_data\",blob_input_data,\"--ml_service\",pipeline_param_ml_service,\"--json_input\",pipeline_param_json_input,\"--model_name\",pipeline_param_model_name,\"--model_version\",pipeline_param_model_version,\"--normalise_labels\",pipeline_param_normalise_labels],\n",
    "    inputs=[blob_input_data],\n",
    "    outputs=[], #[routed_data],\n",
    "    compute_target=compute_target, \n",
    "    source_directory=script_folder,\n",
    "    runconfig=amlcompute_run_config, #added by me\n",
    "    allow_reuse = False\n",
    ")\n",
    "print(\"Process Step created\")"
   ]
  },
  {
   "cell_type": "markdown",
   "metadata": {},
   "source": [
    "## Create Azure Pipeline object"
   ]
  },
  {
   "cell_type": "code",
   "execution_count": null,
   "metadata": {},
   "outputs": [],
   "source": [
    "pipeline = Pipeline(workspace=ws, steps=[step1] )#processDumpStep,processDumpStep2])\n",
    "print (\"Pipeline is built\")\n",
    "pipeline.validate()\n",
    "print(\"Simple validation complete\") "
   ]
  },
  {
   "cell_type": "markdown",
   "metadata": {},
   "source": [
    "## Publish pipeline to Azure"
   ]
  },
  {
   "cell_type": "code",
   "execution_count": null,
   "metadata": {},
   "outputs": [],
   "source": [
    "published_pipeline = pipeline.publish(name=published_pipeline_name, description=published_pipeline_description)\n",
    "published_pipeline"
   ]
  },
  {
   "cell_type": "code",
   "execution_count": null,
   "metadata": {},
   "outputs": [],
   "source": []
  }
 ],
 "metadata": {
  "kernelspec": {
   "display_name": "Python 3",
   "language": "python",
   "name": "python3"
  },
  "language_info": {
   "codemirror_mode": {
    "name": "ipython",
    "version": 3
   },
   "file_extension": ".py",
   "mimetype": "text/x-python",
   "name": "python",
   "nbconvert_exporter": "python",
   "pygments_lexer": "ipython3",
   "version": "3.6.10"
  }
 },
 "nbformat": 4,
 "nbformat_minor": 2
}
