{
 "cells": [
  {
   "cell_type": "markdown",
   "metadata": {},
   "source": [
    "# Call Azure ML for PY Framework web service - tax withholding verification\n",
    "\n",
    "### - Predict Tax amounts per employee\n",
    "### - Compare with actual tax amounts\n",
    "### - Highlight discrepancies"
   ]
  },
  {
   "cell_type": "markdown",
   "metadata": {},
   "source": [
    "### Imports"
   ]
  },
  {
   "cell_type": "code",
   "execution_count": null,
   "metadata": {},
   "outputs": [],
   "source": [
    "import json\n",
    "import requests\n",
    "from ngamlfpy.utils import pulled_json_to_df, pulled_df_to_json\n",
    "from ngamlfpy.hrxmlconfig import MLModelConfig\n",
    "from ngamlfpy.pipeline import FileFinder\n",
    "import matplotlib.pyplot as plt\n",
    "import pandas as pd\n",
    "import os"
   ]
  },
  {
   "cell_type": "markdown",
   "metadata": {},
   "source": [
    "### Settings"
   ]
  },
  {
   "cell_type": "code",
   "execution_count": null,
   "metadata": {},
   "outputs": [],
   "source": [
    "web_service_url = \"http://b03d85f2-b070-497e-a0f8-03ec2315c0af.westus.azurecontainer.io/score\""
   ]
  },
  {
   "cell_type": "markdown",
   "metadata": {},
   "source": [
    "### Parameters"
   ]
  },
  {
   "cell_type": "code",
   "execution_count": null,
   "metadata": {},
   "outputs": [],
   "source": [
    "ml_service = 'TWV'\n",
    "model_code =  'T001' #'SS01'\n",
    "model_version = '002' #'010'\n",
    "use_csv_input = True\n",
    "base_folder = './data'\n",
    "input_file_name = 'TWV_T001_002_EUH_ZCS_Z10_MTHLY_EQ1_402_X1_201902_input.csv' #<== csv input file to use for predictions\n",
    "num_emps_to_clip = 10 # <== Restrict to this number of employees to use from input file. (-1 = use all emps in file)\n",
    "save_csv_file_as_json = True"
   ]
  },
  {
   "cell_type": "markdown",
   "metadata": {},
   "source": [
    "### Find input file in relevant data folder"
   ]
  },
  {
   "cell_type": "code",
   "execution_count": null,
   "metadata": {},
   "outputs": [],
   "source": [
    "\n",
    "finder = FileFinder(ml_service, use_model_name_in=True, use_model_name_out=False, model_name=model_code, model_version = model_version,\n",
    "                         base_folder=base_folder, relative_input_folder=FileFinder.MLFOLDER_INPUT,\n",
    "                         relative_output_folder=FileFinder.MLFOLDER_PREDICT)\n",
    "\n",
    "full_path_in =  finder.get_full_input_file_name(input_file_name)  \n",
    "\n",
    "try:\n",
    "    print('Reading: ',full_path_in)\n",
    "    df = pd.read_csv(full_path_in)\n",
    "    display(df.head())\n",
    "    _,_,_,payroll_service, gcc, lcc, group, system, rest = finder.parse_input_file_name(input_file_name,include_remainder=True)\n",
    "    client, abkrs, period, other = rest.split('_')\n",
    "    ml_config = MLModelConfig.get_model_config_from_web_service_for_cust(ml_service, system=system,gcc=gcc,lcc=lcc,payroll_area=abkrs)\n",
    "except:\n",
    "    print('Error - file read not successful: ',full_path_in)\n"
   ]
  },
  {
   "cell_type": "markdown",
   "metadata": {},
   "source": [
    "### Convert input csv file to json ready for posting to prediction web service"
   ]
  },
  {
   "cell_type": "code",
   "execution_count": null,
   "metadata": {},
   "outputs": [],
   "source": [
    "if use_csv_input:\n",
    "    print('Using csv input')\n",
    "    j_predict = pulled_df_to_json(df,ml_config,period,use_first_data_line_as_selection=True,use_value_title_format=True, clip_emps = num_emps_to_clip)\n",
    "\n",
    "    raw_data = {}\n",
    "    raw_data['data'] = j_predict\n",
    "\n",
    "    if save_csv_file_as_json:\n",
    "       predict_json_file_name =  input_file_name.split('.')[0] + '.json'\n",
    "       full_path_json = os.path.join(finder.get_output_folder(),predict_json_file_name)\n",
    "       print('Writing json predict in file: ', full_path_json)\n",
    "       with open(full_path_json, 'w') as outfile:\n",
    "           json.dump(raw_data, outfile, indent=4)\n",
    "           \n",
    "            \n",
    "else:        \n",
    "    import pprint\n",
    "    input_json_file_name = '' # <-- supply json file name here (including path)\n",
    "    print ('Using Json predict file: ',input_json_file_name)\n",
    "\n",
    "    with open(input_json_file_name) as json_data:\n",
    "            j_predict = json.load(json_data)\n",
    "\n",
    "print('Num emps: ',len(j_predict['values']))\n",
    "print('')\n",
    "print('First emp: ',j_predict['values'][0])\n",
    "print('')\n",
    "print('Selection: ',j_predict['selection'])\n",
    "print('')     "
   ]
  },
  {
   "cell_type": "markdown",
   "metadata": {},
   "source": [
    "###  Prepare headers"
   ]
  },
  {
   "cell_type": "code",
   "execution_count": null,
   "metadata": {},
   "outputs": [],
   "source": [
    "headers = {\"Content-Type\":\"application/json\"}\n",
    "test_samples = json.dumps({'data':j_predict})\n",
    "test_samples = bytes(test_samples, encoding='utf8')        \n",
    "        \n",
    "print (json.dumps(j_predict['selection'], sort_keys=False, indent=4, separators=(',', ': ')))"
   ]
  },
  {
   "cell_type": "markdown",
   "metadata": {},
   "source": [
    "# Call Prediction Web Service\n",
    "\n",
    "\n",
    "- Predict Tax amounts per emp"
   ]
  },
  {
   "cell_type": "code",
   "execution_count": null,
   "metadata": {},
   "outputs": [],
   "source": [
    "response = requests.post(web_service_url, test_samples, headers=headers)  #NGA_Tax_Withheld \n",
    "\n",
    "\n",
    "if response.status_code == 200:\n",
    "    json_predictions = response.json()\n",
    "    print('Prediction Web Service call successful - ' + str(len(json_predictions['Predictions'])) + ' emps processed' + ' Model used: ' + json_predictions['info']['model_code'] + ' Model config ws status: ' + json_predictions['info']['config_web_service_call_status'])\n",
    "\n",
    "    print ('First 5 Tax predictions: ')\n",
    "    for pred in json_predictions['Predictions'][:5]:\n",
    "        print('   Predicted tax: ' + str(pred))\n",
    "else:\n",
    "    print('web service failed. Status: ' + str(response.status_code) + ' message: ' +  str(response.text))\n",
    "    \n",
    "acts = []\n",
    "preds = []\n",
    "for emp in json_predictions['Predictions']:\n",
    "    preds.append(emp['Pred'])\n",
    "    acts.append(emp['Actual'])    \n",
    "    \n",
    " "
   ]
  },
  {
   "cell_type": "code",
   "execution_count": null,
   "metadata": {},
   "outputs": [],
   "source": [
    "json_predictions['info']"
   ]
  },
  {
   "cell_type": "code",
   "execution_count": null,
   "metadata": {},
   "outputs": [],
   "source": [
    "json_predictions['selection']"
   ]
  },
  {
   "cell_type": "code",
   "execution_count": null,
   "metadata": {},
   "outputs": [],
   "source": [
    "json_predictions['Predictions'][:10]"
   ]
  },
  {
   "cell_type": "markdown",
   "metadata": {},
   "source": [
    "## Write json predictions to output file"
   ]
  },
  {
   "cell_type": "code",
   "execution_count": null,
   "metadata": {},
   "outputs": [],
   "source": [
    "predict_json_output_file_name = os.path.split(full_path_in)[-1]\n",
    "file_name_parts = predict_json_output_file_name.split('_')\n",
    "if file_name_parts[-1] == 'input.csv':\n",
    "    file_name_parts[-1] = 'predictions'\n",
    "else:\n",
    "    file_name_parts.append('predictions')\n",
    "predict_json_output_file_name = '_'.join(file_name_parts)  + '.json'\n",
    "full_path_json_out = os.path.join(finder.get_output_folder(),predict_json_output_file_name)\n",
    "print('writing prediction out: ',full_path_json_out)\n",
    "with open(full_path_json_out, 'w') as outfile:\n",
    "    json.dump(json_predictions, outfile, indent=4)"
   ]
  },
  {
   "cell_type": "markdown",
   "metadata": {},
   "source": [
    "# Compare Predictions with Actual"
   ]
  },
  {
   "cell_type": "code",
   "execution_count": null,
   "metadata": {},
   "outputs": [],
   "source": [
    "df_in = pulled_json_to_df(j_predict,use_value_title_format=True)\n",
    "print(df_in.shape)\n",
    "print(len(preds))\n",
    "\n",
    "print(df_in.columns)     \n",
    "df_in['Predicted Tax'] = preds #json_predictions['Predictions']\n",
    "df_in = df_in.rename(columns={'FedTaxWithholding':'Actual Tax'})\n",
    "df_in = df_in.drop(['GCC','LCC','PayrollService','System','ABKRS','Client','Period'],axis=1)\n",
    "df_in['$ Diff'] = df_in['Predicted Tax'] - df_in['Actual Tax']\n",
    "df_in['% Diff'] = df_in['$ Diff'] / df_in['Actual Tax'] * 100.0\n",
    "df_in = df_in.round({'% Diff': 2})\n",
    "\n",
    "df_in.head()"
   ]
  },
  {
   "cell_type": "code",
   "execution_count": null,
   "metadata": {},
   "outputs": [],
   "source": [
    "green_diamond = dict(markerfacecolor='g', marker='D')\n",
    "data = df_in['% Diff']\n",
    "fig1, ax1 = plt.subplots()\n",
    "ax1.set_title('Percentage differences Predicted Tax vs Actual Tax Box Plot')\n",
    "ax1.boxplot(data, flierprops=green_diamond)\n",
    "plt.show()\n"
   ]
  },
  {
   "cell_type": "code",
   "execution_count": null,
   "metadata": {},
   "outputs": [],
   "source": [
    "plt.title('% differences (actual vs predicted Tax) per employee')\n",
    "plt.ylim(top=30,bottom=-30)\n",
    "plt.ylabel('% difference')\n",
    "plt.xlabel('Employee')\n",
    "plt.plot(data) \n",
    "#run.log_image(\"Train set - Percentage diff per employee\", plot=plt)\n",
    "plt.show()"
   ]
  },
  {
   "cell_type": "markdown",
   "metadata": {},
   "source": [
    "### Add \"unusual\" employee"
   ]
  },
  {
   "cell_type": "code",
   "execution_count": null,
   "metadata": {},
   "outputs": [],
   "source": [
    "\n",
    "unusual_data = [\n",
    "                {\n",
    "                    \"title\": \"MLService\",\n",
    "                    \"value\": \"TWV\"\n",
    "                },\n",
    "                {\n",
    "                    \"title\": \"Model\",\n",
    "                    \"value\": \"T001\"\n",
    "                },\n",
    "                {\n",
    "                    \"title\": \"Version\",\n",
    "                    \"value\": 2\n",
    "                },\n",
    "                {\n",
    "                    \"title\": \"GCC\",\n",
    "                    \"value\": \"ZCS\"\n",
    "                },\n",
    "                {\n",
    "                    \"title\": \"LCC\",\n",
    "                    \"value\": \"Z10\"\n",
    "                },\n",
    "                {\n",
    "                    \"title\": \"Period\",\n",
    "                    \"value\": 201902\n",
    "                },\n",
    "                {\n",
    "                    \"title\": \"PayrollService\",\n",
    "                    \"value\": \"EUH\"\n",
    "                },\n",
    "                {\n",
    "                    \"title\": \"System\",\n",
    "                    \"value\": \"EQ1\"\n",
    "                },\n",
    "                {\n",
    "                    \"title\": \"Client\",\n",
    "                    \"value\": 402\n",
    "                },\n",
    "                {\n",
    "                    \"title\": \"ABKRS\",\n",
    "                    \"value\": \"X1\"\n",
    "                },\n",
    "                {\n",
    "                    \"title\": \"PERNR\",\n",
    "                    \"value\": 99991234\n",
    "                },\n",
    "                {\n",
    "                    \"title\": \"PersArea\",\n",
    "                    \"value\": \"ZUS1\"\n",
    "                },\n",
    "                {\n",
    "                    \"title\": \"EmpGroup\",\n",
    "                    \"value\": 1\n",
    "                },\n",
    "                {\n",
    "                    \"title\": \"EmpSubgroup\",\n",
    "                    \"value\": 80\n",
    "                },\n",
    "                {\n",
    "                    \"title\": \"ForPeriod\",\n",
    "                    \"value\": 201902\n",
    "                },\n",
    "                {\n",
    "                    \"title\": \"TaxableGross\",\n",
    "                    \"value\": 4266.00 #4166.00\n",
    "                },\n",
    "                {\n",
    "                    \"title\": \"Year\",\n",
    "                    \"value\": 2019\n",
    "                },\n",
    "                {\n",
    "                    \"title\": \"FilingStatus\",\n",
    "                    \"value\": 1\n",
    "                },\n",
    "                {\n",
    "                    \"title\": \"TaxExIndicator\",\n",
    "                    \"value\": ''\n",
    "                },\n",
    "                {\n",
    "                    \"title\": \"ExtraTaxAmount\",\n",
    "                    \"value\": 0\n",
    "                },\n",
    "                {\n",
    "                    \"title\": \"NumExemptions\",\n",
    "                    \"value\": 0\n",
    "                },\n",
    "                {\n",
    "                    \"title\": \"FedTaxWithholding\",\n",
    "                    \"value\": 501.87\n",
    "                }\n",
    "\n",
    "]\n",
    "\n",
    "\n",
    "j_predict['values'].append(unusual_data)\n",
    "test_samples = json.dumps({'data':j_predict})\n",
    "test_samples = bytes(test_samples, encoding='utf8') \n"
   ]
  },
  {
   "cell_type": "code",
   "execution_count": null,
   "metadata": {},
   "outputs": [],
   "source": [
    "j_predict['values'][-1]"
   ]
  },
  {
   "cell_type": "code",
   "execution_count": null,
   "metadata": {},
   "outputs": [],
   "source": [
    "test_samples[:400]"
   ]
  },
  {
   "cell_type": "code",
   "execution_count": null,
   "metadata": {},
   "outputs": [],
   "source": [
    "response = requests.post(web_service_url, test_samples, headers=headers)  #NGA_Tax_Withheld  Combined\n",
    "\n",
    "if response.status_code == 200:\n",
    "    json_predictions = response.json()\n",
    "    print('Prediction Web Service call successful - ' + str(len(json_predictions['Predictions'])) + ' emps processed')\n",
    "\n",
    "    print ('First 5 Tax predictions: ')\n",
    "    for pred in json_predictions['Predictions'][:5]:\n",
    "        print('   Predicted tax: ' + str(pred))\n",
    "        \n",
    "else:\n",
    "    print('Failed - response: ',response)\n",
    "    \n",
    "acts = []\n",
    "preds = []\n",
    "for emp in json_predictions['Predictions']:\n",
    "    preds.append(emp['Pred'])\n",
    "    acts.append(emp['Actual'])    "
   ]
  },
  {
   "cell_type": "code",
   "execution_count": null,
   "metadata": {},
   "outputs": [],
   "source": [
    "df_in = pulled_json_to_df(j_predict,use_value_title_format=True)\n",
    "\n",
    "     \n",
    "df_in['Predicted Tax'] =  preds #json_predictions['Predictions']\n",
    "df_in = df_in.rename(columns={'FedTaxWithholding':'Actual Tax'})\n",
    "df_in = df_in.drop(['GCC','LCC','PayrollService','System','ABKRS','Client','Period'],axis=1)\n",
    "df_in['$ Diff'] = df_in['Predicted Tax'] - df_in['Actual Tax']\n",
    "df_in['% Diff'] = df_in['$ Diff'] / df_in['Actual Tax'] * 100.0\n",
    "df_in = df_in.round({'% Diff': 2})\n",
    "\n",
    "df_in.head()"
   ]
  },
  {
   "cell_type": "code",
   "execution_count": null,
   "metadata": {},
   "outputs": [],
   "source": [
    "green_diamond = dict(markerfacecolor='g', marker='D')\n",
    "data = df_in['% Diff']\n",
    "fig1, ax1 = plt.subplots()\n",
    "ax1.set_title('Percentage differences Predicted Tax vs Actual Tax Box Plot')\n",
    "ax1.boxplot(data, flierprops=green_diamond)\n",
    "plt.show()"
   ]
  },
  {
   "cell_type": "code",
   "execution_count": null,
   "metadata": {},
   "outputs": [],
   "source": [
    "plt.title('% differences (actual vs predicted Tax) per employee')\n",
    "plt.ylim(top=30,bottom=-30)\n",
    "plt.ylabel('% difference')\n",
    "plt.xlabel('Employee')\n",
    "plt.plot(data) \n",
    "#run.log_image(\"Train set - Percentage diff per employee\", plot=plt)\n",
    "plt.show()"
   ]
  },
  {
   "cell_type": "code",
   "execution_count": null,
   "metadata": {},
   "outputs": [],
   "source": []
  },
  {
   "cell_type": "code",
   "execution_count": null,
   "metadata": {},
   "outputs": [],
   "source": []
  },
  {
   "cell_type": "markdown",
   "metadata": {},
   "source": [
    "### Unused - Test Azure Table Storage"
   ]
  },
  {
   "cell_type": "code",
   "execution_count": null,
   "metadata": {},
   "outputs": [],
   "source": [
    "from azure.cosmosdb.table.tableservice import TableService\n",
    "from azure.cosmosdb.table.models import Entity\n",
    "table_service = TableService(connection_string='DefaultEndpointsProtocol=https;AccountName=ngataxwithheld3648820366;AccountKey=VBBoKAoD/vsOijTn4YXheEGsfy70ZlE/jidC0mSlT3MJw1f6tx/bQLSCrcq9DrFAUbtLHvfj3RI9hTRDGb3Rjg==;EndpointSuffix=core.windows.net')\n",
    "\n",
    "def get_cust(ml_service,sys,client,gcc,lcc,payroll_area):\n",
    "    custs = table_service.query_entities('mlcust')\n",
    "    for cust in custs:\n",
    "        if  ( cust.ml_service == ml_service\n",
    "        and cust.system == sys \n",
    "        and cust.client == client \n",
    "        and cust.gcc == gcc \n",
    "        and cust.lcc == lcc \n",
    "        and cust.payroll_area == payroll_area ):\n",
    "            return cust\n",
    "    return None\n",
    "\n",
    "cust = get_cust('TWV','EQ1','402','ZCS','Z10','X1')\n",
    "if cust is None:\n",
    "    print('not found')\n",
    "else:\n",
    "    print('Model: ' + cust.model)"
   ]
  }
 ],
 "metadata": {
  "kernelspec": {
   "display_name": "Python 3",
   "language": "python",
   "name": "python3"
  },
  "language_info": {
   "codemirror_mode": {
    "name": "ipython",
    "version": 3
   },
   "file_extension": ".py",
   "mimetype": "text/x-python",
   "name": "python",
   "nbconvert_exporter": "python",
   "pygments_lexer": "ipython3",
   "version": "3.6.10"
  }
 },
 "nbformat": 4,
 "nbformat_minor": 2
}
