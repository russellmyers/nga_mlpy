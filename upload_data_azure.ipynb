{
 "cells": [
  {
   "cell_type": "markdown",
   "metadata": {},
   "source": [
    "## Sample code to manually upload ML PY Framework data to Azure datastore in preparation for routing/transorming/training\n",
    "\n",
    "### Note:  Intention is for input data (pre-route) to actually be pushed to Azure by payroll services (eg euHReka) "
   ]
  },
  {
   "cell_type": "markdown",
   "metadata": {},
   "source": [
    "## Imports"
   ]
  },
  {
   "cell_type": "code",
   "execution_count": null,
   "metadata": {},
   "outputs": [],
   "source": [
    "import azureml.core\n",
    "from azureml.core import Workspace\n",
    "from ngamlfpy.pipeline import FileFinder\n",
    "import os\n",
    "\n",
    "# check core SDK version number\n",
    "print(\"Azure ML SDK Version: \", azureml.core.VERSION)"
   ]
  },
  {
   "cell_type": "markdown",
   "metadata": {},
   "source": [
    "## Workspace"
   ]
  },
  {
   "cell_type": "code",
   "execution_count": null,
   "metadata": {},
   "outputs": [],
   "source": [
    "# load workspace configuration from the config.json file in the current folder.\n",
    "\n",
    "ws = Workspace.from_config(path='azure_config_dev.json')\n",
    "print(ws.name, ws.location, ws.resource_group, ws.location, sep='\\t')"
   ]
  },
  {
   "cell_type": "markdown",
   "metadata": {},
   "source": [
    "## Datastore"
   ]
  },
  {
   "cell_type": "code",
   "execution_count": null,
   "metadata": {},
   "outputs": [],
   "source": [
    "ds = ws.get_default_datastore()\n",
    "print(ds.datastore_type, ds.account_name, ds.container_name)"
   ]
  },
  {
   "cell_type": "code",
   "execution_count": null,
   "metadata": {},
   "outputs": [],
   "source": [
    "ml_service = 'PAD'"
   ]
  },
  {
   "cell_type": "markdown",
   "metadata": {},
   "source": [
    "## Upload input data (pre-route)"
   ]
  },
  {
   "cell_type": "code",
   "execution_count": null,
   "metadata": {},
   "outputs": [],
   "source": [
    "source_finder = FileFinder(ml_service, use_model_name_in=False, base_folder = './sample_data',relative_input_folder = FileFinder.MLFOLDER_INPUT)\n",
    "print('local source folder: ',source_finder.get_input_folder())\n",
    "dest_finder = FileFinder(ml_service, use_model_name_in=False, relative_input_folder = FileFinder.MLFOLDER_INPUT)\n",
    "print('azure dest folder: ',dest_finder.get_input_folder())"
   ]
  },
  {
   "cell_type": "code",
   "execution_count": null,
   "metadata": {},
   "outputs": [],
   "source": [
    "file_names = []\n",
    "for fname in os.listdir(source_finder.get_input_folder()):\n",
    "    path = os.path.join(source_finder.get_input_folder(), fname)\n",
    "    if os.path.isdir(path):\n",
    "        # skip directories\n",
    "        pass\n",
    "    else:\n",
    "       file_names.append(path) \n",
    "    \n",
    "print(file_names)    \n",
    "        "
   ]
  },
  {
   "cell_type": "code",
   "execution_count": null,
   "metadata": {},
   "outputs": [],
   "source": [
    "ds.upload_files(file_names, target_path=dest_finder.get_input_folder(), overwrite=True, show_progress=True)"
   ]
  },
  {
   "cell_type": "markdown",
   "metadata": {},
   "source": [
    "## Upload input data (post-route)"
   ]
  },
  {
   "cell_type": "code",
   "execution_count": null,
   "metadata": {},
   "outputs": [],
   "source": [
    "ml_service = 'TWV'\n",
    "model_name = 'SS01'\n",
    "model_version = '011'"
   ]
  },
  {
   "cell_type": "code",
   "execution_count": null,
   "metadata": {},
   "outputs": [],
   "source": [
    "source_finder = FileFinder(ml_service, use_model_name_in=True, model_name = model_name, model_version = model_version, relative_input_folder = FileFinder.MLFOLDER_INPUT)\n",
    "print('local source folder: ',source_finder.get_input_folder())\n",
    "dest_finder = FileFinder(ml_service, use_model_name_in=True, model_name = model_name, model_version = model_version, relative_input_folder = FileFinder.MLFOLDER_INPUT)\n",
    "print('azure dest folder: ',dest_finder.get_input_folder())"
   ]
  },
  {
   "cell_type": "code",
   "execution_count": null,
   "metadata": {},
   "outputs": [],
   "source": [
    "\n",
    "ds.upload(src_dir=source_finder.get_input_folder(), target_path=dest_finder.get_input_folder(), overwrite=True, show_progress=True)"
   ]
  },
  {
   "cell_type": "markdown",
   "metadata": {},
   "source": [
    "## Upload train data (post-route and post-transform, ie training set ready for training)"
   ]
  },
  {
   "cell_type": "code",
   "execution_count": null,
   "metadata": {},
   "outputs": [],
   "source": [
    "ml_service = 'PAD'\n",
    "model_name =  'A001'\n",
    "model_version= '001'"
   ]
  },
  {
   "cell_type": "code",
   "execution_count": null,
   "metadata": {},
   "outputs": [],
   "source": [
    "source_finder = FileFinder(ml_service, use_model_name_in=True, model_name = model_name, model_version = model_version, relative_input_folder = FileFinder.MLFOLDER_TRANSFORMED)\n",
    "print('local source folder: ',source_finder.get_input_folder())\n",
    "dest_finder = FileFinder(ml_service, use_model_name_in=True, model_name = model_name, model_version = model_version, relative_input_folder = FileFinder.MLFOLDER_TRANSFORMED)\n",
    "print('azure dest folder: ',dest_finder.get_input_folder())"
   ]
  },
  {
   "cell_type": "code",
   "execution_count": null,
   "metadata": {},
   "outputs": [],
   "source": [
    "ds.upload(src_dir=source_finder.get_input_folder(),target_path=dest_finder.get_input_folder(), overwrite=True, show_progress=True)"
   ]
  }
 ],
 "metadata": {
  "kernelspec": {
   "display_name": "Python 3",
   "language": "python",
   "name": "python3"
  },
  "language_info": {
   "codemirror_mode": {
    "name": "ipython",
    "version": 3
   },
   "file_extension": ".py",
   "mimetype": "text/x-python",
   "name": "python",
   "nbconvert_exporter": "python",
   "pygments_lexer": "ipython3",
   "version": "3.6.10"
  }
 },
 "nbformat": 4,
 "nbformat_minor": 2
}
