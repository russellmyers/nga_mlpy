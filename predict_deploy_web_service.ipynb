{
 "cells": [
  {
   "cell_type": "markdown",
   "metadata": {},
   "source": [
    "## Imports"
   ]
  },
  {
   "cell_type": "code",
   "execution_count": 2,
   "metadata": {},
   "outputs": [
    {
     "name": "stdout",
     "output_type": "stream",
     "text": [
      "Azure ML SDK Version:  1.1.5\n",
      "twv_test-ws\taustraliaeast\tPOCML\taustraliaeast\n"
     ]
    }
   ],
   "source": [
    "import azureml.core\n",
    "# display the core SDK version number\n",
    "print(\"Azure ML SDK Version: \", azureml.core.VERSION)\n",
    "\n",
    "from azureml.core import Workspace\n",
    "from azureml.core.model import Model\n",
    "import os \n",
    "ws = Workspace.from_config(path='azure_config_dev.json')\n",
    "print(ws.name, ws.location, ws.resource_group, ws.location, sep='\\t')\n",
    "\n"
   ]
  },
  {
   "cell_type": "code",
   "execution_count": 3,
   "metadata": {},
   "outputs": [],
   "source": [
    "ml_service = 'PAD'\n",
    "\n",
    "#TODO - replace with call to HRXML Config API to get algorithm details for web service\n",
    "if ml_service == 'TWV':\n",
    "    algorithm = 'DNN_MLPRegressor'\n",
    "    description = 'Tax Withholding Verification'\n",
    "elif ml_service == 'PAD':\n",
    "    algorithm = 'Isolation_Forest'\n",
    "    description = 'Payroll Anomaly detection'\n",
    "else:\n",
    "    algorithm = 'Other algorithm'\n",
    "    description = 'Other'"
   ]
  },
  {
   "cell_type": "markdown",
   "metadata": {},
   "source": [
    "###  Choose published models to deploy in web service, and try  to download to ensure they exist"
   ]
  },
  {
   "cell_type": "code",
   "execution_count": 31,
   "metadata": {
    "scrolled": true
   },
   "outputs": [
    {
     "name": "stdout",
     "output_type": "stream",
     "text": [
      "Replacing tag azure_model_vers -> 1 with azure_model_vers -> 1\n",
      "Model tag add operation complete.\n",
      "model: TWV_model_SS01_010 1\n",
      "ser: {'createdTime': '2019-11-01T05:19:48.928468+00:00', 'createdBy': None, 'description': None, 'id': 'TWV_model_SS01_010:1', 'mimeType': 'application/json', 'name': 'TWV_model_SS01_010', 'framework': 'Custom', 'frameworkVersion': None, 'tags': {'RunNumber': '1', 'RunId': 'train_TWV_SS01_010_1572585323_098301fe', 'Model': 'SS01', 'ModelVersion': '010', 'HiddenLayers': '2', 'LearningRate': '0.001', 'TrainSetSize': '2374', 'Algorithm': 'DNN_MLPRegressor', 'Iters': '2000', 'NumFeatures': '20', 'azure_model_vers': 1}, 'properties': {}, 'unpack': False, 'url': 'aml://asset/b10c9aff90e64667a2c9b6d31b5cf9af', 'version': 1, 'experimentName': None, 'runId': None, 'runDetails': 'None', 'datasets': {}, 'resourceConfiguration': None, 'sampleInputDatasetId': None, 'sampleOutputDatasetId': None}\n",
      "Replacing tag azure_model_vers -> 1 with azure_model_vers -> 1\n",
      "Model tag add operation complete.\n",
      "model: TWV_model_T001_002 1\n",
      "ser: {'createdTime': '2019-11-08T01:30:32.908803+00:00', 'createdBy': None, 'description': None, 'id': 'TWV_model_T001_002:1', 'mimeType': 'application/json', 'name': 'TWV_model_T001_002', 'framework': 'Custom', 'frameworkVersion': None, 'tags': {'RunNumber': '1', 'RunId': 'train_TWV_T001_002_1573176360_d541b960', 'Model': 'T001', 'ModelVersion': '002', 'HiddenLayers': '2', 'LearningRate': '0.001', 'TrainSetSize': '1352', 'Algorithm': 'DNN_MLPRegressor', 'Iters': '2000', 'NumFeatures': '6', 'azure_model_vers': 1}, 'properties': {}, 'unpack': False, 'url': 'aml://asset/fd7815cf8c4a4c72a07b9a1239379155', 'version': 1, 'experimentName': None, 'runId': None, 'runDetails': 'None', 'datasets': {}, 'resourceConfiguration': None, 'sampleInputDatasetId': None, 'sampleOutputDatasetId': None}\n",
      "Replacing tag azure_model_vers -> 1 with azure_model_vers -> 1\n",
      "Model tag add operation complete.\n",
      "model: PAD_model_M010_002 1\n",
      "ser: {'createdTime': '2019-11-01T04:49:56.118263+00:00', 'createdBy': None, 'description': None, 'id': 'PAD_model_M010_002:1', 'mimeType': 'application/json', 'name': 'PAD_model_M010_002', 'framework': 'Custom', 'frameworkVersion': None, 'tags': {'RunNumber': '1', 'RunId': 'train_PAD_M010_002_1572583610_51f1e4c6', 'Model': 'M010', 'ModelVersion': '002', 'HiddenLayers': '2', 'LearningRate': '0.001', 'TrainSetSize': '5835', 'Algorithm': 'Isolation_Forest', 'Iters': '1000', 'NumFeatures': '17', 'azure_model_vers': 1}, 'properties': {}, 'unpack': False, 'url': 'aml://asset/106711e6bede478a98e7fcca43d5f84f', 'version': 1, 'experimentName': None, 'runId': None, 'runDetails': 'None', 'datasets': {}, 'resourceConfiguration': None, 'sampleInputDatasetId': None, 'sampleOutputDatasetId': None}\n",
      "Replacing tag azure_model_vers -> 1 with azure_model_vers -> 1\n",
      "Model tag add operation complete.\n",
      "model: PAD_model_M005_001 1\n",
      "ser: {'createdTime': '2019-10-28T05:57:53.486004+00:00', 'createdBy': None, 'description': None, 'id': 'PAD_model_M005_001:1', 'mimeType': 'application/json', 'name': 'PAD_model_M005_001', 'framework': 'Custom', 'frameworkVersion': None, 'tags': {'RunNumber': '1', 'RunId': 'train_PAD_M005_001_1572242073_5ca99d7c', 'Model': 'M005', 'ModelVersion': '001', 'HiddenLayers': '2', 'LearningRate': '0.001', 'TrainSetSize': '131', 'Algorithm': 'Isolation_Forest', 'Iters': '1000', 'NumFeatures': '6', 'azure_model_vers': 1}, 'properties': {}, 'unpack': False, 'url': 'aml://asset/a01a9d60b91c4e9bbc8c66661ad5935f', 'version': 1, 'experimentName': None, 'runId': None, 'runDetails': 'None', 'datasets': {}, 'resourceConfiguration': None, 'sampleInputDatasetId': None, 'sampleOutputDatasetId': None}\n",
      "Replacing tag azure_model_vers -> 5 with azure_model_vers -> 5\n",
      "Model tag add operation complete.\n",
      "model: PAD_model_A001_001 5\n",
      "ser: {'createdTime': '2020-03-30T03:22:32.688304+00:00', 'createdBy': {'userObjectId': '64a929a7-d412-4988-8a3b-37f1f978e461', 'userPuId': '10037FFE96A8FD37', 'userIdp': None, 'userAltSecId': None, 'userIss': 'https://sts.windows.net/a68231cf-ba7c-48b4-8c57-3373f61f4395/', 'userTenantId': 'a68231cf-ba7c-48b4-8c57-3373f61f4395', 'userName': 'Russell Myers'}, 'description': None, 'id': 'PAD_model_A001_001:5', 'mimeType': 'application/json', 'name': 'PAD_model_A001_001', 'framework': 'Custom', 'frameworkVersion': None, 'tags': {'RunNumber': '6', 'RunId': 'train_PAD_A001_001_1585537244_f03c5309', 'Model': 'A001', 'ModelVersion': '001', 'TrainSetSize': '5709', 'Algorithm': 'Isolation_Forest', 'AlgorithmType': 'enhanced_isolation_forest', 'ISONumEstimators': '200', 'ISOMaxSamples': 'auto', 'ISOMaxFeatures': '1.0', 'NumFeatures': '19', 'azure_model_vers': 5}, 'properties': {}, 'unpack': False, 'url': 'aml://asset/439018dfcd0f4ab39a50726063db7e7a', 'version': 5, 'experimentName': 'train_PAD_A001_001', 'runId': 'train_PAD_A001_001_1585537244_f03c5309', 'runDetails': 'Run(Experiment: train_PAD_A001_001,\\nId: train_PAD_A001_001_1585537244_f03c5309,\\nType: azureml.scriptrun,\\nStatus: Completed)', 'datasets': {}, 'resourceConfiguration': None, 'sampleInputDatasetId': None, 'sampleOutputDatasetId': None}\n"
     ]
    }
   ],
   "source": [
    "models_list = [{'ml_service':'TWV','model_code':'SS01','model_version':'010','vers':1},{'ml_service':'TWV','model_code':'T001','model_version':'002','vers':1},{'ml_service':'PAD','model_code':'M010','model_version':'002','vers':1},{'ml_service':'PAD','model_code':'M005','model_version':'001','vers':1},{'ml_service':'PAD','model_code':'A001','model_version':'001','vers':5}] #,{'model_code':'T003','model_vers':2}]\n",
    "#ml_service = 'TWV'\n",
    "\n",
    "\n",
    "twv_models = []\n",
    "\n",
    "for model_details in models_list:\n",
    "    ml_serv = model_details['ml_service']\n",
    "    model = model_details['model_code']  #'T003'\n",
    "    model_version = None\n",
    "    if 'model_version' in model_details:\n",
    "        model_version = model_details['model_version']\n",
    "    version = model_details['vers']\n",
    "    if model_version is None:\n",
    "        twv_model=Model(ws, ml_serv + '_model_' + model,version=version)\n",
    "    else:\n",
    "        twv_model=Model(ws, ml_serv + '_model_' + model + '_' + model_version,version=version)\n",
    "    twv_model.add_tags({'azure_model_vers':version})\n",
    "    twv_models.append(twv_model)\n",
    "\n",
    "    print('model: ' + str(twv_model.name) + ' ' + str(twv_model.version))\n",
    "\n",
    "    ser = twv_model.serialize()\n",
    "    print('ser: ' + str(ser))\n",
    "    twv_model.download(target_dir=os.path.join(os.getcwd(),'downloaded_models'), exist_ok=True)\n",
    "\n",
    "    # verify the downloaded model file\n",
    "    #file_path = os.path.join(os.getcwd(), \"sklearn_mnist_model.pkl\")\n",
    "\n",
    "    #os.stat(file_path)"
   ]
  },
  {
   "cell_type": "markdown",
   "metadata": {},
   "source": [
    "## Package dependencies"
   ]
  },
  {
   "cell_type": "code",
   "execution_count": 5,
   "metadata": {},
   "outputs": [],
   "source": [
    "from azureml.core.conda_dependencies import CondaDependencies \n",
    "\n",
    "myenv = CondaDependencies()\n",
    "myenv.add_conda_package(\"scikit-learn\")\n",
    "myenv.add_conda_package(\"pandas\")\n",
    "myenv.add_conda_package(\"matplotlib\")\n",
    "myenv.add_conda_package(\"numpy\")\n",
    "myenv.add_conda_package(\"requests\")\n",
    "myenv.add_channel(\"conda-forge\")\n",
    "myenv.add_pip_package(\"azureml-pipeline-core\")\n",
    "\n",
    "with open(\"myenv.yml\",\"w\") as f:\n",
    "    f.write(myenv.serialize_to_string())\n"
   ]
  },
  {
   "cell_type": "code",
   "execution_count": 6,
   "metadata": {},
   "outputs": [
    {
     "name": "stdout",
     "output_type": "stream",
     "text": [
      "# Conda environment specification. The dependencies defined in this file will\n",
      "\n",
      "# be automatically provisioned for runs with userManagedDependencies=False.\n",
      "\n",
      "\n",
      "# Details about the Conda environment file format:\n",
      "\n",
      "# https://conda.io/docs/user-guide/tasks/manage-environments.html#create-env-file-manually\n",
      "\n",
      "\n",
      "name: project_environment\n",
      "dependencies:\n",
      "  # The python interpreter version.\n",
      "\n",
      "  # Currently Azure ML only supports 3.5.2 and later.\n",
      "\n",
      "- python=3.6.2\n",
      "\n",
      "- pip:\n",
      "    # Required packages for AzureML execution, history, and data preparation.\n",
      "\n",
      "  - azureml-defaults\n",
      "\n",
      "  - azureml-pipeline-core\n",
      "- scikit-learn\n",
      "- pandas\n",
      "- matplotlib\n",
      "- numpy\n",
      "- requests\n",
      "channels:\n",
      "- anaconda\n",
      "- conda-forge\n",
      "\n"
     ]
    }
   ],
   "source": [
    "with open(\"myenv.yml\",\"r\") as f:\n",
    "    print(f.read())"
   ]
  },
  {
   "cell_type": "markdown",
   "metadata": {},
   "source": [
    "## Web service depoyment configuration"
   ]
  },
  {
   "cell_type": "code",
   "execution_count": 7,
   "metadata": {},
   "outputs": [],
   "source": [
    "from azureml.core.webservice import AciWebservice\n",
    "\n",
    "aciconfig = AciWebservice.deploy_configuration(cpu_cores=1, \n",
    "                                               memory_gb=1, \n",
    "                                               tags={\"ml_service\": ml_service,\"algorithm\":algorithm}, \n",
    "                                               description=description)"
   ]
  },
  {
   "cell_type": "markdown",
   "metadata": {},
   "source": [
    "# Option 1 - Use when updating an  existing web service with a new image"
   ]
  },
  {
   "cell_type": "code",
   "execution_count": 8,
   "metadata": {},
   "outputs": [],
   "source": [
    "ngamlfpy_package = 'ngamlfpy'"
   ]
  },
  {
   "cell_type": "code",
   "execution_count": 9,
   "metadata": {},
   "outputs": [],
   "source": [
    "ml_service = 'TWV' # for image purposes - has both pad and twv modesl in twvimage"
   ]
  },
  {
   "cell_type": "code",
   "execution_count": 10,
   "metadata": {},
   "outputs": [
    {
     "name": "stderr",
     "output_type": "stream",
     "text": [
      "C:\\Users\\russellM\\AppData\\Local\\Continuum\\anaconda3\\envs\\keras\\lib\\site-packages\\ipykernel_launcher.py:10: DeprecationWarning: ContainerImage class has been deprecated and will be removed in a future release. Please migrate to using Environments. https://docs.microsoft.com/en-us/azure/machine-learning/how-to-use-environments\n",
      "  # Remove the CWD from sys.path while we load stuff.\n",
      "C:\\Users\\russellM\\AppData\\Local\\Continuum\\anaconda3\\envs\\keras\\lib\\site-packages\\ipykernel_launcher.py:17: DeprecationWarning: Image class has been deprecated and will be removed in a future release. Please migrate to using Environments. https://docs.microsoft.com/en-us/azure/machine-learning/how-to-use-environments\n"
     ]
    },
    {
     "name": "stdout",
     "output_type": "stream",
     "text": [
      "Creating image\n",
      "Wall time: 9.1 s\n"
     ]
    }
   ],
   "source": [
    "%%time\n",
    "#rbm code to create new image\n",
    "\n",
    "from azureml.core.image import Image\n",
    "from azureml.core.image import ContainerImage\n",
    "\n",
    "new_img_name = ml_service.lower() + 'image'\n",
    "image_config = ContainerImage.image_configuration(execution_script=\"predict_model.py\", \n",
    "                                                  runtime=\"python\", \n",
    "                                                  conda_file=\"myenv.yml\",\n",
    "                                                 dependencies=[os.path.join('.',ngamlfpy_package)\n",
    "                                                               #os.path.join('.', 'gen_utils.py'),\n",
    "                                                               #os.path.join('.', 'pipeline_utils.py'),\n",
    "                                                               #os.path.join('.',  'train_utils.py')\n",
    "                                                               ])\n",
    "\n",
    "\n",
    "img = Image.create(workspace=ws, name=new_img_name, models=twv_models, image_config=image_config)"
   ]
  },
  {
   "cell_type": "code",
   "execution_count": 18,
   "metadata": {},
   "outputs": [
    {
     "data": {
      "text/plain": [
       "[AciWebservice(workspace=Workspace.create(name='twv_test-ws', subscription_id='0c7f1ae6-7228-403f-ba54-84e72c46d6cf', resource_group='POCML'), name=twvimage, image_id=twvimage:23, compute_type=sha256:3149a900ad933a27ca72cc52a058087d450812a4d4606bebb586ceab7ad1360b, state=ACI, scoring_uri=None, tags=http://b03d85f2-b070-497e-a0f8-03ec2315c0af.westus.azurecontainer.io/score, properties={'ml_service': 'TWV', 'model_code': 'T001', 'algorithm': 'DNN_MLPRegressor'}, created_by={'azureml.git.repository_uri': 'https://github.com/russellmyers/nga_mlpy.git', 'mlflow.source.git.repoURL': 'https://github.com/russellmyers/nga_mlpy.git', 'azureml.git.branch': 'master', 'mlflow.source.git.branch': 'master', 'azureml.git.commit': '94bee109d41c2ec247d8840f44551f157ec2aa0b', 'mlflow.source.git.commit': '94bee109d41c2ec247d8840f44551f157ec2aa0b', 'azureml.git.dirty': 'True'}),\n",
       " AciWebservice(workspace=Workspace.create(name='twv_test-ws', subscription_id='0c7f1ae6-7228-403f-ba54-84e72c46d6cf', resource_group='POCML'), name=sdsimage, image_id=sdsimage:1, compute_type=sha256:deb48705577aee8e85fc40dc3d93662fc1e270cc4b4532dc002ae446679bdca8, state=ACI, scoring_uri=None, tags=http://4b12b9a9-3560-44e0-b954-282116787d0e.westus.azurecontainer.io/score, properties={}, created_by={})]"
      ]
     },
     "execution_count": 18,
     "metadata": {},
     "output_type": "execute_result"
    }
   ],
   "source": [
    "#rbm code to get webservice for existing image\n",
    "from azureml.core.webservice import Webservice\n",
    "\n",
    "#prev_image_name = 'twvdnn9' \n",
    "web_services = Webservice.list(workspace=ws, image_name=None, image_id=None, model_name=None, model_id=None, tags=None, properties=None)\n",
    "web_services\n"
   ]
  },
  {
   "cell_type": "code",
   "execution_count": 20,
   "metadata": {},
   "outputs": [
    {
     "data": {
      "text/plain": [
       "'twvimage'"
      ]
     },
     "execution_count": 20,
     "metadata": {},
     "output_type": "execute_result"
    }
   ],
   "source": [
    "web_services[0].name"
   ]
  },
  {
   "cell_type": "code",
   "execution_count": 21,
   "metadata": {},
   "outputs": [
    {
     "name": "stderr",
     "output_type": "stream",
     "text": [
      "C:\\Users\\russellM\\AppData\\Local\\Continuum\\anaconda3\\envs\\keras\\lib\\site-packages\\ipykernel_launcher.py:1: DeprecationWarning: Image class has been deprecated and will be removed in a future release. Please migrate to using Environments. https://docs.microsoft.com/en-us/azure/machine-learning/how-to-use-environments\n",
      "  \"\"\"Entry point for launching an IPython kernel.\n"
     ]
    },
    {
     "data": {
      "text/plain": [
       "[ContainerImage(workspace=Workspace.create(name='twv_test-ws', subscription_id='0c7f1ae6-7228-403f-ba54-84e72c46d6cf', resource_group='POCML'), name=twvimage, id=twvimage:23, tags={}, properties={'azureml.git.repository_uri': 'https://github.com/russellmyers/nga_mlpy.git', 'mlflow.source.git.repoURL': 'https://github.com/russellmyers/nga_mlpy.git', 'azureml.git.branch': 'master', 'mlflow.source.git.branch': 'master', 'azureml.git.commit': '94bee109d41c2ec247d8840f44551f157ec2aa0b', 'mlflow.source.git.commit': '94bee109d41c2ec247d8840f44551f157ec2aa0b', 'azureml.git.dirty': 'True'}, version=23),\n",
       " ContainerImage(workspace=Workspace.create(name='twv_test-ws', subscription_id='0c7f1ae6-7228-403f-ba54-84e72c46d6cf', resource_group='POCML'), name=sdsimage, id=sdsimage:1, tags={}, properties={}, version=1),\n",
       " ContainerImage(workspace=Workspace.create(name='twv_test-ws', subscription_id='0c7f1ae6-7228-403f-ba54-84e72c46d6cf', resource_group='POCML'), name=twvimage, id=twvimage:22, tags={}, properties={}, version=22),\n",
       " ContainerImage(workspace=Workspace.create(name='twv_test-ws', subscription_id='0c7f1ae6-7228-403f-ba54-84e72c46d6cf', resource_group='POCML'), name=twvimage, id=twvimage:21, tags={}, properties={}, version=21)]"
      ]
     },
     "execution_count": 21,
     "metadata": {},
     "output_type": "execute_result"
    }
   ],
   "source": [
    "images=Image.list(workspace=ws)\n",
    "images"
   ]
  },
  {
   "cell_type": "code",
   "execution_count": 22,
   "metadata": {},
   "outputs": [
    {
     "data": {
      "text/plain": [
       "ContainerImage(workspace=Workspace.create(name='twv_test-ws', subscription_id='0c7f1ae6-7228-403f-ba54-84e72c46d6cf', resource_group='POCML'), name=twvimage, id=twvimage:23, tags={}, properties={'azureml.git.repository_uri': 'https://github.com/russellmyers/nga_mlpy.git', 'mlflow.source.git.repoURL': 'https://github.com/russellmyers/nga_mlpy.git', 'azureml.git.branch': 'master', 'mlflow.source.git.branch': 'master', 'azureml.git.commit': '94bee109d41c2ec247d8840f44551f157ec2aa0b', 'mlflow.source.git.commit': '94bee109d41c2ec247d8840f44551f157ec2aa0b', 'azureml.git.dirty': 'True'}, version=23)"
      ]
     },
     "execution_count": 22,
     "metadata": {},
     "output_type": "execute_result"
    }
   ],
   "source": [
    "new_img = images[0]\n",
    "new_img"
   ]
  },
  {
   "cell_type": "code",
   "execution_count": 23,
   "metadata": {},
   "outputs": [],
   "source": [
    "#rbm code to update existing webservie with new image\n",
    "web_services[0].update(image=new_img, tags=None, properties=None, description=ml_service + \" Prediction\", auth_enabled=None, ssl_enabled=None, ssl_cert_pem_file=None, ssl_key_pem_file=None, ssl_cname=None, enable_app_insights=None)"
   ]
  },
  {
   "cell_type": "code",
   "execution_count": 24,
   "metadata": {
    "scrolled": true
   },
   "outputs": [
    {
     "data": {
      "text/plain": [
       "\"2020-03-30T03:41:26,552540184+00:00 - gunicorn/run \\n2020-03-30T03:41:26,552515483+00:00 - rsyslog/run \\n2020-03-30T03:41:26,553684825+00:00 - iot-server/run \\n2020-03-30T03:41:26,562810556+00:00 - nginx/run \\nEdgeHubConnectionString and IOTEDGE_IOTHUBHOSTNAME are not set. Exiting...\\n2020-03-30T03:41:26,847358776+00:00 - iot-server/finish 1 0\\n2020-03-30T03:41:26,856885222+00:00 - Exit code 1 is normal. Not restarting iot-server.\\nStarting gunicorn 19.9.0\\nListening at: http://127.0.0.1:31311 (9)\\nUsing worker: sync\\nworker timeout is set to 300\\nBooting worker with pid: 44\\ngenerated new fontManager\\nInitializing logger\\nStarting up app insights client\\nStarting up request id generator\\nStarting up app insight hooks\\nInvoking user's init function\\nUsers's init has completed successfully\\n/opt/miniconda/lib/python3.6/site-packages/sklearn/externals/joblib/__init__.py:15: FutureWarning: sklearn.externals.joblib is deprecated in 0.21 and will be removed in 0.23. Please import this functionality directly from joblib, which can be installed with: pip install joblib. If this warning is raised when loading pickled models, you may need to re-serialize those models with scikit-learn 0.21+.\\n  warnings.warn(msg, category=FutureWarning)\\nSkipping middleware: dbg_model_info as it's not enabled.\\nScoring timeout is found from os.environ: 60000 ms\\n\""
      ]
     },
     "execution_count": 24,
     "metadata": {},
     "output_type": "execute_result"
    }
   ],
   "source": [
    "web_services[0].get_logs()"
   ]
  },
  {
   "cell_type": "code",
   "execution_count": null,
   "metadata": {},
   "outputs": [],
   "source": []
  },
  {
   "cell_type": "markdown",
   "metadata": {},
   "source": [
    "# ... or Option 2) Use when deplying a new web service (also deploys new image at same time)"
   ]
  },
  {
   "cell_type": "code",
   "execution_count": null,
   "metadata": {},
   "outputs": [],
   "source": [
    "%%time\n",
    "from azureml.core.webservice import Webservice\n",
    "from azureml.core.image import ContainerImage\n",
    "\n",
    "ngamlfpy_package = 'ngamlfpy'\n",
    "\n",
    "# configure the image\n",
    "image_config = ContainerImage.image_configuration(execution_script=\"predict_model.py\", \n",
    "                                                  runtime=\"python\", \n",
    "                                                  conda_file=\"myenv.yml\",\n",
    "                                                 dependencies=[\n",
    "                                                               os.path.join('.',ngamlfpy_package)\n",
    "                                                               #os.path.join('.', 'gen_utils.py'),\n",
    "                                                               #os.path.join('.', 'pipeline_utils.py'),\n",
    "                                                               #os.path.join('.',  'train_utils.py')\n",
    "                                                               ])\n",
    "\n",
    "service = Webservice.deploy_from_model(workspace=ws,\n",
    "                                       name= ml_service.lower() + 'image',\n",
    "                                       deployment_config=aciconfig,\n",
    "                                       models=twv_models,\n",
    "                                       image_config=image_config)\n",
    "\n",
    "\n",
    "service.wait_for_deployment(show_output=True)"
   ]
  },
  {
   "cell_type": "markdown",
   "metadata": {},
   "source": [
    "## Note: can debug prediction web service with service.get_logs()"
   ]
  },
  {
   "cell_type": "code",
   "execution_count": null,
   "metadata": {},
   "outputs": [],
   "source": [
    "print(service.get_logs())"
   ]
  },
  {
   "cell_type": "markdown",
   "metadata": {},
   "source": [
    "## Try running web service"
   ]
  },
  {
   "cell_type": "code",
   "execution_count": 26,
   "metadata": {},
   "outputs": [
    {
     "data": {
      "text/plain": [
       "'http://b03d85f2-b070-497e-a0f8-03ec2315c0af.westus.azurecontainer.io/score'"
      ]
     },
     "execution_count": 26,
     "metadata": {},
     "output_type": "execute_result"
    }
   ],
   "source": [
    "web_services[0].scoring_uri"
   ]
  },
  {
   "cell_type": "code",
   "execution_count": null,
   "metadata": {},
   "outputs": [],
   "source": [
    "import json\n",
    "model = 'T001'\n",
    "predict_file_name =  model + '_test.json'\n",
    "data_dir='data/predict'\n",
    "predict_source = 'json'\n",
    "model_prefix = model\n",
    "predict_file_path = '/'.join([data_dir,model_prefix])\n",
    "full_predict_file_name = '/'.join([predict_file_path,predict_file_name])\n",
    "print ('Predict file: ',full_predict_file_name)\n",
    "if predict_source == 'json':\n",
    "    with open(full_predict_file_name) as json_data:\n",
    "        j_data = json.load(json_data)\n",
    "raw_data = {}\n",
    "raw_data['data'] = j_data\n",
    "raw_data['data']"
   ]
  },
  {
   "cell_type": "code",
   "execution_count": null,
   "metadata": {},
   "outputs": [],
   "source": [
    "raw_data_str = json.dumps(raw_data)\n",
    "test_samples = bytes(raw_data_str, encoding='utf8')\n",
    "result = web_services[0].run(input_data=test_samples)\n",
    "\n",
    "result"
   ]
  },
  {
   "cell_type": "code",
   "execution_count": null,
   "metadata": {},
   "outputs": [],
   "source": [
    "# import json\n",
    "\n",
    "\n",
    "# predict_file_name = model + '_test.json'\n",
    "# data_dir='data/predict'\n",
    "# predict_source = 'json'\n",
    "# model_prefix = model + '_' + target_vers\n",
    "# predict_file_path = '/'.join([data_dir,model_prefix])\n",
    "# full_predict_file_name = '/'.join([predict_file_path,predict_file_name])\n",
    "# print ('Predict file: ',full_predict_file_name)\n",
    "# if predict_source == 'json':\n",
    "#     with open(full_predict_file_name) as json_data:\n",
    "#         j_data = json.load(json_data)\n",
    "        \n",
    "\n",
    "# test_samples = json.dumps({\"data\": j_data})\n",
    "# test_samples = bytes(test_samples, encoding='utf8')\n",
    "\n",
    "# # predict using the deployed model\n",
    "# result = service.run(input_data=test_samples)\n",
    "# result"
   ]
  },
  {
   "cell_type": "code",
   "execution_count": null,
   "metadata": {},
   "outputs": [],
   "source": []
  }
 ],
 "metadata": {
  "kernelspec": {
   "display_name": "Python 3",
   "language": "python",
   "name": "python3"
  },
  "language_info": {
   "codemirror_mode": {
    "name": "ipython",
    "version": 3
   },
   "file_extension": ".py",
   "mimetype": "text/x-python",
   "name": "python",
   "nbconvert_exporter": "python",
   "pygments_lexer": "ipython3",
   "version": "3.6.10"
  }
 },
 "nbformat": 4,
 "nbformat_minor": 2
}
